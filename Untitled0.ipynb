{
  "nbformat": 4,
  "nbformat_minor": 0,
  "metadata": {
    "colab": {
      "provenance": [],
      "authorship_tag": "ABX9TyOBw2B52aMFfrOWik7TvPpa",
      "include_colab_link": true
    },
    "kernelspec": {
      "name": "python3",
      "display_name": "Python 3"
    },
    "language_info": {
      "name": "python"
    }
  },
  "cells": [
    {
      "cell_type": "markdown",
      "metadata": {
        "id": "view-in-github",
        "colab_type": "text"
      },
      "source": [
        "<a href=\"https://colab.research.google.com/github/AndresMendoza30/repositorio1/blob/EJERCICIOS-DEL-LIBRO/Untitled0.ipynb\" target=\"_parent\"><img src=\"https://colab.research.google.com/assets/colab-badge.svg\" alt=\"Open In Colab\"/></a>"
      ]
    },
    {
      "cell_type": "code",
      "execution_count": 27,
      "metadata": {
        "colab": {
          "base_uri": "https://localhost:8080/"
        },
        "id": "77PZCcjGNIVX",
        "outputId": "9fc0c135-b649-46b4-9b66-1fc91b00f64e"
      },
      "outputs": [
        {
          "output_type": "stream",
          "name": "stdout",
          "text": [
            "Requirement already satisfied: nacal in /usr/local/lib/python3.10/dist-packages (0.1.30)\n",
            "Requirement already satisfied: sympy>=1.1.0 in /usr/local/lib/python3.10/dist-packages (from nacal) (1.12)\n",
            "Requirement already satisfied: mpmath>=0.19 in /usr/local/lib/python3.10/dist-packages (from sympy>=1.1.0->nacal) (1.3.0)\n"
          ]
        }
      ],
      "source": [
        "!pip install --target=$nb_path nacal\n",
        "from nacal import *"
      ]
    },
    {
      "cell_type": "markdown",
      "source": [
        "¿Es verdad que\n",
        "$$\n",
        "pregunta 1\n",
        "\\begin{bmatrix}\n",
        " 1\\\\2\n",
        " \\\\3\n",
        "\\end{bmatrix}\n",
        "+\n",
        "\\begin{bmatrix}\n",
        " 4\\\\5\n",
        " \\\\6\n",
        "\\end{bmatrix}\n",
        "=\n",
        "\\begin{bmatrix}\n",
        " 4\\\\5\n",
        " \\\\6\n",
        "\\end{bmatrix}\n",
        "+\n",
        "\\begin{bmatrix}\n",
        "1\\\\2\n",
        " \\\\3\n",
        "\\end{bmatrix}\n",
        "=\n",
        "\\begin{bmatrix}\n",
        "5\\\\7\n",
        " \\\\9\n",
        "\\end{bmatrix}\n",
        "$$\n",
        "¿también se verificarán estas propiedades cuando operamos\n",
        "con vectores?"
      ],
      "metadata": {
        "id": "0X5WTA7otdFj"
      }
    },
    {
      "cell_type": "code",
      "source": [
        "a = Vector( [1,2,3] )\n",
        "b = Vector( [4,5,6] )\n",
        "b = a + b\n",
        "\n",
        "b"
      ],
      "metadata": {
        "colab": {
          "base_uri": "https://localhost:8080/",
          "height": 46
        },
        "id": "VnzKdudy9U0s",
        "outputId": "b9f4ff55-8298-4ea5-8032-9abf27bb2aef"
      },
      "execution_count": 28,
      "outputs": [
        {
          "output_type": "execute_result",
          "data": {
            "text/plain": [
              "Vector([5, 7, 9])"
            ],
            "text/html": [
              "<p style=\"text-align:center;\">$\\begin{pmatrix}5\\\\ 7\\\\ 9\\end{pmatrix}$</p>"
            ],
            "image/png": "$\\begin{pmatrix}5\\\\ 7\\\\ 9\\end{pmatrix}$",
            "text/latex": "$\\begin{pmatrix}5\\\\ 7\\\\ 9\\end{pmatrix}$"
          },
          "metadata": {},
          "execution_count": 28
        }
      ]
    },
    {
      "cell_type": "markdown",
      "source": [
        "$$\n",
        "pregunta 2\n",
        "\\begin{bmatrix}\n",
        " 1\\\\2\n",
        "\\end{bmatrix}\n",
        "+\\left (\n",
        "\\begin{bmatrix}\n",
        " 4\\\\5\n",
        "\\end{bmatrix}\n",
        "+\n",
        "\\begin{bmatrix}\n",
        "1\\\\0\n",
        "\\end{bmatrix}\n",
        "\\right )\n",
        "=\\left (\n",
        "  \\begin{bmatrix}\n",
        "1\\\\2\n",
        "\\end{bmatrix}\n",
        "+\n",
        "\\begin{bmatrix}\n",
        "4\\\\5\n",
        "\\end{bmatrix}\n",
        "\\right )\n",
        "+\n",
        "\\begin{bmatrix}\n",
        "1\\\\0\n",
        "\\end{bmatrix}\n",
        "$$"
      ],
      "metadata": {
        "id": "Yv1czLt_AAmZ"
      }
    },
    {
      "cell_type": "code",
      "source": [
        "a = Vector([1,2])\n",
        "b = Vector([4,5])\n",
        "c = Vector([1,0])"
      ],
      "metadata": {
        "id": "HJhcKmBUALq1"
      },
      "execution_count": 31,
      "outputs": []
    },
    {
      "cell_type": "markdown",
      "source": [
        "$\\begin{pmatrix}5\\\\ 7\\\\ 9\\end{pmatrix}$"
      ],
      "metadata": {
        "id": "PJ5tKpxM_u0F"
      }
    },
    {
      "cell_type": "code",
      "source": [
        "intermedio = b + c\n",
        "final = a + intermedio\n",
        "print(final)"
      ],
      "metadata": {
        "colab": {
          "base_uri": "https://localhost:8080/"
        },
        "id": "9Ya039QPAvGi",
        "outputId": "9d415b29-c230-4dd2-ca7e-9172396431fe"
      },
      "execution_count": 32,
      "outputs": [
        {
          "output_type": "stream",
          "name": "stdout",
          "text": [
            "Vector([6, 7])\n"
          ]
        }
      ]
    },
    {
      "cell_type": "markdown",
      "source": [
        "$$ pregunta 3\n",
        "\\begin{bmatrix}\n",
        " 4\\\\5\n",
        " \\\\6\n",
        "\\end{bmatrix}\n",
        "+\n",
        "\\begin{bmatrix}\n",
        " 0\\\\0\n",
        " \\\\0\n",
        "\\end{bmatrix}\n",
        "=\n",
        "\\begin{bmatrix}\n",
        " 4\\\\5\n",
        " \\\\6\n",
        "\\end{bmatrix}\n",
        "$$"
      ],
      "metadata": {
        "id": "xpU01hrVA_4q"
      }
    },
    {
      "cell_type": "code",
      "source": [
        "a = Vector([4,5,6])\n",
        "b = Vector([0,0,0])\n",
        "b = a + b\n",
        "b"
      ],
      "metadata": {
        "colab": {
          "base_uri": "https://localhost:8080/",
          "height": 46
        },
        "id": "C-8tc1ITBAu9",
        "outputId": "dba6f9b0-3a8e-4ab2-bd96-7db79bb5f0c4"
      },
      "execution_count": 33,
      "outputs": [
        {
          "output_type": "execute_result",
          "data": {
            "text/plain": [
              "Vector([4, 5, 6])"
            ],
            "text/html": [
              "<p style=\"text-align:center;\">$\\begin{pmatrix}4\\\\ 5\\\\ 6\\end{pmatrix}$</p>"
            ],
            "image/png": "$\\begin{pmatrix}4\\\\ 5\\\\ 6\\end{pmatrix}$",
            "text/latex": "$\\begin{pmatrix}4\\\\ 5\\\\ 6\\end{pmatrix}$"
          },
          "metadata": {},
          "execution_count": 33
        }
      ]
    },
    {
      "cell_type": "markdown",
      "source": [
        "$\\begin{pmatrix}4\\\\ 5\\\\ 6\\end{pmatrix}$"
      ],
      "metadata": {
        "id": "sp3PLP6UBjwH"
      }
    },
    {
      "cell_type": "markdown",
      "source": [
        "$$ pregunta 4\n",
        "\\begin{bmatrix}\n",
        " 4\\\\5\n",
        " \\\\6\n",
        "\\end{bmatrix}\n",
        "+\n",
        "\\begin{bmatrix}\n",
        " -4\\\\-5\n",
        " \\\\-6\n",
        "\\end{bmatrix}\n",
        "=\n",
        "\\begin{bmatrix}\n",
        " 0\\\\0\n",
        " \\\\0\n",
        "\\end{bmatrix}\n",
        "$$"
      ],
      "metadata": {
        "id": "PKVPYVETBlbd"
      }
    },
    {
      "cell_type": "code",
      "source": [
        "a = Vector([4,5,6])\n",
        "b = Vector([-4,-5,-6])\n",
        "b = a + b\n",
        "b"
      ],
      "metadata": {
        "colab": {
          "base_uri": "https://localhost:8080/",
          "height": 46
        },
        "id": "qE--J64QBpx_",
        "outputId": "b7c497c7-4633-4019-c410-e2033bd903bc"
      },
      "execution_count": 34,
      "outputs": [
        {
          "output_type": "execute_result",
          "data": {
            "text/plain": [
              "Vector([0, 0, 0])"
            ],
            "text/html": [
              "<p style=\"text-align:center;\">$\\begin{pmatrix}0\\\\ 0\\\\ 0\\end{pmatrix}$</p>"
            ],
            "image/png": "$\\begin{pmatrix}0\\\\ 0\\\\ 0\\end{pmatrix}$",
            "text/latex": "$\\begin{pmatrix}0\\\\ 0\\\\ 0\\end{pmatrix}$"
          },
          "metadata": {},
          "execution_count": 34
        }
      ]
    },
    {
      "cell_type": "markdown",
      "source": [
        "$\\begin{pmatrix}0\\\\ 0\\\\ 0\\end{pmatrix}$\n"
      ],
      "metadata": {
        "id": "LoP6ubVCBvIZ"
      }
    },
    {
      "cell_type": "markdown",
      "source": [
        "es una regla general para cualquier par de vectores, ejercicio 5\n",
        "$$\n",
        "2\n",
        "\\left (\n",
        "  \\begin{bmatrix}\n",
        " 1\\\\-1\n",
        "\\end{bmatrix}\n",
        "+\\begin{bmatrix}\n",
        " 4\\\\5\n",
        "\\end{bmatrix}\n",
        " \\right )\n",
        " =\n",
        " 2\n",
        " \\begin{bmatrix}\n",
        " 1\\\\-1\n",
        "\\end{bmatrix}\n",
        "+\n",
        "2\n",
        "\\begin{bmatrix}\n",
        " 4\\\\5\n",
        "\\end{bmatrix}\n",
        " $$"
      ],
      "metadata": {
        "id": "kRpUx463BxJ6"
      }
    },
    {
      "cell_type": "code",
      "source": [
        "a = 2\n",
        "b = Vector([1,-1])\n",
        "c = Vector([4,5])\n",
        "h = a * (b + c)\n",
        "h"
      ],
      "metadata": {
        "colab": {
          "base_uri": "https://localhost:8080/",
          "height": 46
        },
        "id": "YLIddmuGBz4j",
        "outputId": "ce6f5504-9c85-485d-ba55-85d0c878fdac"
      },
      "execution_count": 35,
      "outputs": [
        {
          "output_type": "execute_result",
          "data": {
            "text/plain": [
              "Vector([10, 8])"
            ],
            "text/html": [
              "<p style=\"text-align:center;\">$\\begin{pmatrix}10\\\\ 8\\end{pmatrix}$</p>"
            ],
            "image/png": "$\\begin{pmatrix}10\\\\ 8\\end{pmatrix}$",
            "text/latex": "$\\begin{pmatrix}10\\\\ 8\\end{pmatrix}$"
          },
          "metadata": {},
          "execution_count": 35
        }
      ]
    },
    {
      "cell_type": "markdown",
      "source": [
        "$\\begin{pmatrix}10\\\\ 8\\end{pmatrix}$"
      ],
      "metadata": {
        "id": "68EgVAZoB3UT"
      }
    },
    {
      "cell_type": "code",
      "source": [
        "intermedio = b + c\n",
        "final = intermedio * a\n",
        "print(final)"
      ],
      "metadata": {
        "colab": {
          "base_uri": "https://localhost:8080/"
        },
        "id": "RZnyJ7pLEWen",
        "outputId": "a4522ee2-cb47-4c1c-89f3-2d32f2bf169b"
      },
      "execution_count": 36,
      "outputs": [
        {
          "output_type": "stream",
          "name": "stdout",
          "text": [
            "Vector([10, 8])\n"
          ]
        }
      ]
    },
    {
      "cell_type": "markdown",
      "source": [
        "Es una regla general para\n",
        "cualquier par de vectores, ejercicio 6\n",
        "$$\n",
        "\\left ( \\begin{bmatrix}\n",
        " 2+3  \\\\\n",
        "\\end{bmatrix}\n",
        "   \\right )\n",
        "   +\n",
        "   \\begin{bmatrix}\n",
        " 1\\\\2\n",
        " \\\\3\n",
        "\\end{bmatrix}\n",
        "=\n",
        "2\n",
        "\\begin{bmatrix}\n",
        " 1\\\\2\n",
        " \\\\3\n",
        "\\end{bmatrix}\n",
        "+2\n",
        "\\begin{bmatrix}\n",
        " 1\\\\2\n",
        " \\\\3\n",
        "\\end{bmatrix}\n",
        "   $$"
      ],
      "metadata": {
        "id": "8GwVHv7XRGdW"
      }
    },
    {
      "cell_type": "code",
      "source": [
        "a = 2+3\n",
        "b = Vector([1,2,3])\n",
        "h = a * b\n",
        "h"
      ],
      "metadata": {
        "colab": {
          "base_uri": "https://localhost:8080/",
          "height": 46
        },
        "id": "xznifKLWEdlu",
        "outputId": "8eca3ff4-a5e5-4da9-f7cd-03abcc2dced1"
      },
      "execution_count": 37,
      "outputs": [
        {
          "output_type": "execute_result",
          "data": {
            "text/plain": [
              "Vector([5, 10, 15])"
            ],
            "text/html": [
              "<p style=\"text-align:center;\">$\\begin{pmatrix}5\\\\ 10\\\\ 15\\end{pmatrix}$</p>"
            ],
            "image/png": "$\\begin{pmatrix}5\\\\ 10\\\\ 15\\end{pmatrix}$",
            "text/latex": "$\\begin{pmatrix}5\\\\ 10\\\\ 15\\end{pmatrix}$"
          },
          "metadata": {},
          "execution_count": 37
        }
      ]
    },
    {
      "cell_type": "markdown",
      "source": [
        "$\\begin{pmatrix}5\\\\ 10\\\\ 15\\end{pmatrix}$"
      ],
      "metadata": {
        "id": "Q4qkxSbZEh53"
      }
    },
    {
      "cell_type": "markdown",
      "source": [
        "Es una regla general para\n",
        "cualquier par de vectores, ejercicio 7\n",
        "$$\n",
        "2\n",
        "\\left (3\n",
        "\\begin{bmatrix}\n",
        " 1\\\\2\n",
        " \\\\\n",
        "\\end{bmatrix}\n",
        "\\right )\n",
        "=\n",
        "\\left (  2 * 3\\right )\n",
        "*\n",
        "\\begin{bmatrix}\n",
        " 1\\\\2\n",
        " \\\\\n",
        "\\end{bmatrix}\n",
        "$$"
      ],
      "metadata": {
        "id": "YHXBBaOxROkP"
      }
    },
    {
      "cell_type": "code",
      "source": [
        "a = 3 * 2\n",
        "b = Vector([1,2,])\n",
        "h = a * b\n",
        "h"
      ],
      "metadata": {
        "colab": {
          "base_uri": "https://localhost:8080/",
          "height": 46
        },
        "id": "2EFE9Y_jEisI",
        "outputId": "be4eaf63-59a5-4f3a-8450-68b7ae123040"
      },
      "execution_count": 38,
      "outputs": [
        {
          "output_type": "execute_result",
          "data": {
            "text/plain": [
              "Vector([6, 12])"
            ],
            "text/html": [
              "<p style=\"text-align:center;\">$\\begin{pmatrix}6\\\\ 12\\end{pmatrix}$</p>"
            ],
            "image/png": "$\\begin{pmatrix}6\\\\ 12\\end{pmatrix}$",
            "text/latex": "$\\begin{pmatrix}6\\\\ 12\\end{pmatrix}$"
          },
          "metadata": {},
          "execution_count": 38
        }
      ]
    },
    {
      "cell_type": "markdown",
      "source": [
        "$\\begin{pmatrix}6\\\\ 12\\end{pmatrix}$"
      ],
      "metadata": {
        "id": "TT7C8D3TEm97"
      }
    },
    {
      "cell_type": "markdown",
      "source": [
        "Es cierto solo para el escalar a = 1\n",
        "ejercicio 8\n",
        "\n",
        "$$\n",
        "a\\begin{bmatrix}\n",
        " 1\\\\2\n",
        " \\\\3\n",
        "\\end{bmatrix}\n",
        "=\\begin{bmatrix}\n",
        " 1\\\\2\n",
        " \\\\3\n",
        "\\end{bmatrix}\n",
        "$$"
      ],
      "metadata": {
        "id": "FDxTyybVRSdv"
      }
    },
    {
      "cell_type": "code",
      "source": [
        "a = a\n",
        "b = Vector([1,2,3])\n",
        "c = a * b\n",
        "c"
      ],
      "metadata": {
        "colab": {
          "base_uri": "https://localhost:8080/",
          "height": 46
        },
        "id": "pImP5rjVIEG6",
        "outputId": "d832dfe8-93f9-4f2a-d4d6-520280ec2018"
      },
      "execution_count": 46,
      "outputs": [
        {
          "output_type": "execute_result",
          "data": {
            "text/plain": [
              "Vector([3, 6, 9])"
            ],
            "text/html": [
              "<p style=\"text-align:center;\">$\\begin{pmatrix}3\\\\ 6\\\\ 9\\end{pmatrix}$</p>"
            ],
            "image/png": "$\\begin{pmatrix}3\\\\ 6\\\\ 9\\end{pmatrix}$",
            "text/latex": "$\\begin{pmatrix}3\\\\ 6\\\\ 9\\end{pmatrix}$"
          },
          "metadata": {},
          "execution_count": 46
        }
      ]
    },
    {
      "cell_type": "markdown",
      "source": [
        "$\\begin{pmatrix}6\\\\ 12\\\\ 18\\end{pmatrix}$"
      ],
      "metadata": {
        "id": "NOvzD7ZCSaXu"
      }
    }
  ]
}