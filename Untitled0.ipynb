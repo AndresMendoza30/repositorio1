{
  "nbformat": 4,
  "nbformat_minor": 0,
  "metadata": {
    "colab": {
      "provenance": [],
      "authorship_tag": "ABX9TyPOPhQAb6nkBrSnLcBLnD2d",
      "include_colab_link": true
    },
    "kernelspec": {
      "name": "python3",
      "display_name": "Python 3"
    },
    "language_info": {
      "name": "python"
    }
  },
  "cells": [
    {
      "cell_type": "markdown",
      "metadata": {
        "id": "view-in-github",
        "colab_type": "text"
      },
      "source": [
        "<a href=\"https://colab.research.google.com/github/AndresMendoza30/repositorio1/blob/EJERCICIOS-DEL-LIBRO/Untitled0.ipynb\" target=\"_parent\"><img src=\"https://colab.research.google.com/assets/colab-badge.svg\" alt=\"Open In Colab\"/></a>"
      ]
    },
    {
      "cell_type": "code",
      "execution_count": 1,
      "metadata": {
        "colab": {
          "base_uri": "https://localhost:8080/",
          "height": 356
        },
        "id": "77PZCcjGNIVX",
        "outputId": "368c68a3-2a02-4dc2-b16e-cc8724d740e0"
      },
      "outputs": [
        {
          "output_type": "error",
          "ename": "ValueError",
          "evalue": "Mountpoint must be in a directory that exists",
          "traceback": [
            "\u001b[0;31m---------------------------------------------------------------------------\u001b[0m",
            "\u001b[0;31mValueError\u001b[0m                                Traceback (most recent call last)",
            "\u001b[0;32m<ipython-input-1-cab947031772>\u001b[0m in \u001b[0;36m<cell line: 3>\u001b[0;34m()\u001b[0m\n\u001b[1;32m      1\u001b[0m \u001b[0;32mimport\u001b[0m \u001b[0mos\u001b[0m\u001b[0;34m,\u001b[0m \u001b[0msys\u001b[0m\u001b[0;34m\u001b[0m\u001b[0;34m\u001b[0m\u001b[0m\n\u001b[1;32m      2\u001b[0m \u001b[0;32mfrom\u001b[0m \u001b[0mgoogle\u001b[0m\u001b[0;34m.\u001b[0m\u001b[0mcolab\u001b[0m \u001b[0;32mimport\u001b[0m \u001b[0mdrive\u001b[0m\u001b[0;34m\u001b[0m\u001b[0;34m\u001b[0m\u001b[0m\n\u001b[0;32m----> 3\u001b[0;31m \u001b[0mdrive\u001b[0m\u001b[0;34m.\u001b[0m\u001b[0mmount\u001b[0m\u001b[0;34m(\u001b[0m\u001b[0;34m'content/drive'\u001b[0m\u001b[0;34m)\u001b[0m\u001b[0;34m\u001b[0m\u001b[0;34m\u001b[0m\u001b[0m\n\u001b[0m\u001b[1;32m      4\u001b[0m \u001b[0mnb_path\u001b[0m \u001b[0;34m=\u001b[0m \u001b[0;34m'content/notebooks'\u001b[0m\u001b[0;34m\u001b[0m\u001b[0;34m\u001b[0m\u001b[0m\n\u001b[1;32m      5\u001b[0m \u001b[0mos\u001b[0m\u001b[0;34m.\u001b[0m\u001b[0msymlink\u001b[0m\u001b[0;34m(\u001b[0m\u001b[0;34m'/content/drive/My drive/Colab Notebooks'\u001b[0m\u001b[0;34m,\u001b[0m \u001b[0mnb_path\u001b[0m\u001b[0;34m)\u001b[0m\u001b[0;34m\u001b[0m\u001b[0;34m\u001b[0m\u001b[0m\n",
            "\u001b[0;32m/usr/local/lib/python3.10/dist-packages/google/colab/drive.py\u001b[0m in \u001b[0;36mmount\u001b[0;34m(mountpoint, force_remount, timeout_ms, readonly)\u001b[0m\n\u001b[1;32m     98\u001b[0m \u001b[0;32mdef\u001b[0m \u001b[0mmount\u001b[0m\u001b[0;34m(\u001b[0m\u001b[0mmountpoint\u001b[0m\u001b[0;34m,\u001b[0m \u001b[0mforce_remount\u001b[0m\u001b[0;34m=\u001b[0m\u001b[0;32mFalse\u001b[0m\u001b[0;34m,\u001b[0m \u001b[0mtimeout_ms\u001b[0m\u001b[0;34m=\u001b[0m\u001b[0;36m120000\u001b[0m\u001b[0;34m,\u001b[0m \u001b[0mreadonly\u001b[0m\u001b[0;34m=\u001b[0m\u001b[0;32mFalse\u001b[0m\u001b[0;34m)\u001b[0m\u001b[0;34m:\u001b[0m\u001b[0;34m\u001b[0m\u001b[0;34m\u001b[0m\u001b[0m\n\u001b[1;32m     99\u001b[0m   \u001b[0;34m\"\"\"Mount your Google Drive at the specified mountpoint path.\"\"\"\u001b[0m\u001b[0;34m\u001b[0m\u001b[0;34m\u001b[0m\u001b[0m\n\u001b[0;32m--> 100\u001b[0;31m   return _mount(\n\u001b[0m\u001b[1;32m    101\u001b[0m       \u001b[0mmountpoint\u001b[0m\u001b[0;34m,\u001b[0m\u001b[0;34m\u001b[0m\u001b[0;34m\u001b[0m\u001b[0m\n\u001b[1;32m    102\u001b[0m       \u001b[0mforce_remount\u001b[0m\u001b[0;34m=\u001b[0m\u001b[0mforce_remount\u001b[0m\u001b[0;34m,\u001b[0m\u001b[0;34m\u001b[0m\u001b[0;34m\u001b[0m\u001b[0m\n",
            "\u001b[0;32m/usr/local/lib/python3.10/dist-packages/google/colab/drive.py\u001b[0m in \u001b[0;36m_mount\u001b[0;34m(mountpoint, force_remount, timeout_ms, ephemeral, readonly)\u001b[0m\n\u001b[1;32m    196\u001b[0m     \u001b[0mnormed\u001b[0m \u001b[0;34m=\u001b[0m \u001b[0m_os\u001b[0m\u001b[0;34m.\u001b[0m\u001b[0mpath\u001b[0m\u001b[0;34m.\u001b[0m\u001b[0mnormpath\u001b[0m\u001b[0;34m(\u001b[0m\u001b[0mmountpoint\u001b[0m\u001b[0;34m)\u001b[0m\u001b[0;34m\u001b[0m\u001b[0;34m\u001b[0m\u001b[0m\n\u001b[1;32m    197\u001b[0m     \u001b[0;32mif\u001b[0m \u001b[0;34m'/'\u001b[0m \u001b[0;32min\u001b[0m \u001b[0mnormed\u001b[0m \u001b[0;32mand\u001b[0m \u001b[0;32mnot\u001b[0m \u001b[0m_os\u001b[0m\u001b[0;34m.\u001b[0m\u001b[0mpath\u001b[0m\u001b[0;34m.\u001b[0m\u001b[0mexists\u001b[0m\u001b[0;34m(\u001b[0m\u001b[0m_os\u001b[0m\u001b[0;34m.\u001b[0m\u001b[0mpath\u001b[0m\u001b[0;34m.\u001b[0m\u001b[0mdirname\u001b[0m\u001b[0;34m(\u001b[0m\u001b[0mnormed\u001b[0m\u001b[0;34m)\u001b[0m\u001b[0;34m)\u001b[0m\u001b[0;34m:\u001b[0m\u001b[0;34m\u001b[0m\u001b[0;34m\u001b[0m\u001b[0m\n\u001b[0;32m--> 198\u001b[0;31m       \u001b[0;32mraise\u001b[0m \u001b[0mValueError\u001b[0m\u001b[0;34m(\u001b[0m\u001b[0;34m'Mountpoint must be in a directory that exists'\u001b[0m\u001b[0;34m)\u001b[0m\u001b[0;34m\u001b[0m\u001b[0;34m\u001b[0m\u001b[0m\n\u001b[0m\u001b[1;32m    199\u001b[0m   \u001b[0;32mexcept\u001b[0m\u001b[0;34m:\u001b[0m\u001b[0;34m\u001b[0m\u001b[0;34m\u001b[0m\u001b[0m\n\u001b[1;32m    200\u001b[0m     \u001b[0md\u001b[0m\u001b[0;34m.\u001b[0m\u001b[0mkill\u001b[0m\u001b[0;34m(\u001b[0m\u001b[0m_signal\u001b[0m\u001b[0;34m.\u001b[0m\u001b[0mSIGKILL\u001b[0m\u001b[0;34m)\u001b[0m\u001b[0;34m\u001b[0m\u001b[0;34m\u001b[0m\u001b[0m\n",
            "\u001b[0;31mValueError\u001b[0m: Mountpoint must be in a directory that exists"
          ]
        }
      ],
      "source": [
        "import os, sys\n",
        "from google.colab import drive\n",
        "drive.mount('content/drive')\n",
        "nb_path = 'content/notebooks'\n",
        "os.symlink('/content/drive/My drive/Colab Notebooks', nb_path)\n",
        "sys.path.insert(0,nb_path)\n",
        "\n"
      ]
    },
    {
      "cell_type": "code",
      "source": [
        "from nacal import *\n",
        "from IPython.display import display, Math, Latex"
      ],
      "metadata": {
        "id": "1AUGmy7aHbpo"
      },
      "execution_count": 14,
      "outputs": []
    },
    {
      "cell_type": "code",
      "source": [
        "!pip install --target=$nb_path nacal"
      ],
      "metadata": {
        "colab": {
          "base_uri": "https://localhost:8080/"
        },
        "id": "5eOcSTcgNmn4",
        "outputId": "5d9b1069-a531-4aec-80b2-97cfa09e94b0"
      },
      "execution_count": 10,
      "outputs": [
        {
          "output_type": "stream",
          "name": "stdout",
          "text": [
            "Requirement already satisfied: nacal in /usr/local/lib/python3.10/dist-packages (0.1.30)\n",
            "Requirement already satisfied: sympy>=1.1.0 in /usr/local/lib/python3.10/dist-packages (from nacal) (1.12)\n",
            "Requirement already satisfied: mpmath>=0.19 in /usr/local/lib/python3.10/dist-packages (from sympy>=1.1.0->nacal) (1.3.0)\n"
          ]
        }
      ]
    },
    {
      "cell_type": "markdown",
      "source": [
        "¿Es verdad que\n",
        "$$\n",
        "pregunta 1\n",
        "\\begin{bmatrix}\n",
        " 1\\\\2\n",
        " \\\\3\n",
        "\\end{bmatrix}\n",
        "+\n",
        "\\begin{bmatrix}\n",
        " 4\\\\5\n",
        " \\\\6\n",
        "\\end{bmatrix}\n",
        "=\n",
        "\\begin{bmatrix}\n",
        " 4\\\\5\n",
        " \\\\6\n",
        "\\end{bmatrix}\n",
        "+\n",
        "\\begin{bmatrix}\n",
        "1\\\\2\n",
        " \\\\3\n",
        "\\end{bmatrix}\n",
        "=\n",
        "\\begin{bmatrix}\n",
        "5\\\\7\n",
        " \\\\9\n",
        "\\end{bmatrix}\n",
        "$$\n",
        "¿también se verificarán estas propiedades cuando operamos\n",
        "con vectores?"
      ],
      "metadata": {
        "id": "0X5WTA7otdFj"
      }
    },
    {
      "cell_type": "code",
      "source": [
        "a = Vector( [1,2,3] )\n",
        "b = Vector( [4,5,6] )\n",
        "b = a + b\n",
        "\n",
        "b"
      ],
      "metadata": {
        "colab": {
          "base_uri": "https://localhost:8080/",
          "height": 46
        },
        "id": "VnzKdudy9U0s",
        "outputId": "b9f4ff55-8298-4ea5-8032-9abf27bb2aef"
      },
      "execution_count": null,
      "outputs": [
        {
          "output_type": "execute_result",
          "data": {
            "text/plain": [
              "Vector([5, 7, 9])"
            ],
            "text/html": [
              "<p style=\"text-align:center;\">$\\begin{pmatrix}5\\\\ 7\\\\ 9\\end{pmatrix}$</p>"
            ],
            "image/png": "$\\begin{pmatrix}5\\\\ 7\\\\ 9\\end{pmatrix}$",
            "text/latex": "$\\begin{pmatrix}5\\\\ 7\\\\ 9\\end{pmatrix}$"
          },
          "metadata": {},
          "execution_count": 28
        }
      ]
    },
    {
      "cell_type": "markdown",
      "source": [
        "$$\n",
        "pregunta 2\n",
        "\\begin{bmatrix}\n",
        " 1\\\\2\n",
        "\\end{bmatrix}\n",
        "+\\left (\n",
        "\\begin{bmatrix}\n",
        " 4\\\\5\n",
        "\\end{bmatrix}\n",
        "+\n",
        "\\begin{bmatrix}\n",
        "1\\\\0\n",
        "\\end{bmatrix}\n",
        "\\right )\n",
        "=\\left (\n",
        "  \\begin{bmatrix}\n",
        "1\\\\2\n",
        "\\end{bmatrix}\n",
        "+\n",
        "\\begin{bmatrix}\n",
        "4\\\\5\n",
        "\\end{bmatrix}\n",
        "\\right )\n",
        "+\n",
        "\\begin{bmatrix}\n",
        "1\\\\0\n",
        "\\end{bmatrix}\n",
        "$$"
      ],
      "metadata": {
        "id": "Yv1czLt_AAmZ"
      }
    },
    {
      "cell_type": "code",
      "source": [
        "a = Vector([1,2])\n",
        "b = Vector([4,5])\n",
        "c = Vector([1,0])"
      ],
      "metadata": {
        "id": "HJhcKmBUALq1"
      },
      "execution_count": null,
      "outputs": []
    },
    {
      "cell_type": "markdown",
      "source": [
        "$\\begin{pmatrix}5\\\\ 7\\\\ 9\\end{pmatrix}$"
      ],
      "metadata": {
        "id": "PJ5tKpxM_u0F"
      }
    },
    {
      "cell_type": "code",
      "source": [
        "intermedio = b + c\n",
        "final = a + intermedio\n",
        "print(final)"
      ],
      "metadata": {
        "colab": {
          "base_uri": "https://localhost:8080/"
        },
        "id": "9Ya039QPAvGi",
        "outputId": "9d415b29-c230-4dd2-ca7e-9172396431fe"
      },
      "execution_count": null,
      "outputs": [
        {
          "output_type": "stream",
          "name": "stdout",
          "text": [
            "Vector([6, 7])\n"
          ]
        }
      ]
    },
    {
      "cell_type": "markdown",
      "source": [
        "$$ pregunta 3\n",
        "\\begin{bmatrix}\n",
        " 4\\\\5\n",
        " \\\\6\n",
        "\\end{bmatrix}\n",
        "+\n",
        "\\begin{bmatrix}\n",
        " 0\\\\0\n",
        " \\\\0\n",
        "\\end{bmatrix}\n",
        "=\n",
        "\\begin{bmatrix}\n",
        " 4\\\\5\n",
        " \\\\6\n",
        "\\end{bmatrix}\n",
        "$$"
      ],
      "metadata": {
        "id": "xpU01hrVA_4q"
      }
    },
    {
      "cell_type": "code",
      "source": [
        "a = Vector([4,5,6])\n",
        "b = Vector([0,0,0])\n",
        "b = a + b\n",
        "b"
      ],
      "metadata": {
        "colab": {
          "base_uri": "https://localhost:8080/",
          "height": 46
        },
        "id": "C-8tc1ITBAu9",
        "outputId": "dba6f9b0-3a8e-4ab2-bd96-7db79bb5f0c4"
      },
      "execution_count": null,
      "outputs": [
        {
          "output_type": "execute_result",
          "data": {
            "text/plain": [
              "Vector([4, 5, 6])"
            ],
            "text/html": [
              "<p style=\"text-align:center;\">$\\begin{pmatrix}4\\\\ 5\\\\ 6\\end{pmatrix}$</p>"
            ],
            "image/png": "$\\begin{pmatrix}4\\\\ 5\\\\ 6\\end{pmatrix}$",
            "text/latex": "$\\begin{pmatrix}4\\\\ 5\\\\ 6\\end{pmatrix}$"
          },
          "metadata": {},
          "execution_count": 33
        }
      ]
    },
    {
      "cell_type": "markdown",
      "source": [
        "$\\begin{pmatrix}4\\\\ 5\\\\ 6\\end{pmatrix}$"
      ],
      "metadata": {
        "id": "sp3PLP6UBjwH"
      }
    },
    {
      "cell_type": "markdown",
      "source": [
        "$$ pregunta 4\n",
        "\\begin{bmatrix}\n",
        " 4\\\\5\n",
        " \\\\6\n",
        "\\end{bmatrix}\n",
        "+\n",
        "\\begin{bmatrix}\n",
        " -4\\\\-5\n",
        " \\\\-6\n",
        "\\end{bmatrix}\n",
        "=\n",
        "\\begin{bmatrix}\n",
        " 0\\\\0\n",
        " \\\\0\n",
        "\\end{bmatrix}\n",
        "$$"
      ],
      "metadata": {
        "id": "PKVPYVETBlbd"
      }
    },
    {
      "cell_type": "code",
      "source": [
        "a = Vector([4,5,6])\n",
        "b = Vector([-4,-5,-6])\n",
        "b = a + b\n",
        "b"
      ],
      "metadata": {
        "colab": {
          "base_uri": "https://localhost:8080/",
          "height": 46
        },
        "id": "qE--J64QBpx_",
        "outputId": "b7c497c7-4633-4019-c410-e2033bd903bc"
      },
      "execution_count": null,
      "outputs": [
        {
          "output_type": "execute_result",
          "data": {
            "text/plain": [
              "Vector([0, 0, 0])"
            ],
            "text/html": [
              "<p style=\"text-align:center;\">$\\begin{pmatrix}0\\\\ 0\\\\ 0\\end{pmatrix}$</p>"
            ],
            "image/png": "$\\begin{pmatrix}0\\\\ 0\\\\ 0\\end{pmatrix}$",
            "text/latex": "$\\begin{pmatrix}0\\\\ 0\\\\ 0\\end{pmatrix}$"
          },
          "metadata": {},
          "execution_count": 34
        }
      ]
    },
    {
      "cell_type": "markdown",
      "source": [
        "$\\begin{pmatrix}0\\\\ 0\\\\ 0\\end{pmatrix}$\n"
      ],
      "metadata": {
        "id": "LoP6ubVCBvIZ"
      }
    },
    {
      "cell_type": "markdown",
      "source": [
        "es una regla general para cualquier par de vectores, ejercicio 5\n",
        "$$\n",
        "2\n",
        "\\left (\n",
        "  \\begin{bmatrix}\n",
        " 1\\\\-1\n",
        "\\end{bmatrix}\n",
        "+\\begin{bmatrix}\n",
        " 4\\\\5\n",
        "\\end{bmatrix}\n",
        " \\right )\n",
        " =\n",
        " 2\n",
        " \\begin{bmatrix}\n",
        " 1\\\\-1\n",
        "\\end{bmatrix}\n",
        "+\n",
        "2\n",
        "\\begin{bmatrix}\n",
        " 4\\\\5\n",
        "\\end{bmatrix}\n",
        " $$"
      ],
      "metadata": {
        "id": "kRpUx463BxJ6"
      }
    },
    {
      "cell_type": "code",
      "source": [
        "a = 2\n",
        "b = Vector([1,-1])\n",
        "c = Vector([4,5])\n",
        "h = a * (b + c)\n",
        "h"
      ],
      "metadata": {
        "colab": {
          "base_uri": "https://localhost:8080/",
          "height": 46
        },
        "id": "YLIddmuGBz4j",
        "outputId": "ce6f5504-9c85-485d-ba55-85d0c878fdac"
      },
      "execution_count": null,
      "outputs": [
        {
          "output_type": "execute_result",
          "data": {
            "text/plain": [
              "Vector([10, 8])"
            ],
            "text/html": [
              "<p style=\"text-align:center;\">$\\begin{pmatrix}10\\\\ 8\\end{pmatrix}$</p>"
            ],
            "image/png": "$\\begin{pmatrix}10\\\\ 8\\end{pmatrix}$",
            "text/latex": "$\\begin{pmatrix}10\\\\ 8\\end{pmatrix}$"
          },
          "metadata": {},
          "execution_count": 35
        }
      ]
    },
    {
      "cell_type": "markdown",
      "source": [
        "$\\begin{pmatrix}10\\\\ 8\\end{pmatrix}$"
      ],
      "metadata": {
        "id": "68EgVAZoB3UT"
      }
    },
    {
      "cell_type": "code",
      "source": [
        "intermedio = b + c\n",
        "final = intermedio * a\n",
        "print(final)"
      ],
      "metadata": {
        "colab": {
          "base_uri": "https://localhost:8080/"
        },
        "id": "RZnyJ7pLEWen",
        "outputId": "a4522ee2-cb47-4c1c-89f3-2d32f2bf169b"
      },
      "execution_count": null,
      "outputs": [
        {
          "output_type": "stream",
          "name": "stdout",
          "text": [
            "Vector([10, 8])\n"
          ]
        }
      ]
    },
    {
      "cell_type": "markdown",
      "source": [
        "Es una regla general para\n",
        "cualquier par de vectores, ejercicio 6\n",
        "$$\n",
        "\\left ( \\begin{bmatrix}\n",
        " 2+3  \\\\\n",
        "\\end{bmatrix}\n",
        "   \\right )\n",
        "   +\n",
        "   \\begin{bmatrix}\n",
        " 1\\\\2\n",
        " \\\\3\n",
        "\\end{bmatrix}\n",
        "=\n",
        "2\n",
        "\\begin{bmatrix}\n",
        " 1\\\\2\n",
        " \\\\3\n",
        "\\end{bmatrix}\n",
        "+2\n",
        "\\begin{bmatrix}\n",
        " 1\\\\2\n",
        " \\\\3\n",
        "\\end{bmatrix}\n",
        "   $$"
      ],
      "metadata": {
        "id": "8GwVHv7XRGdW"
      }
    },
    {
      "cell_type": "code",
      "source": [
        "a = 2+3\n",
        "b = Vector([1,2,3])\n",
        "h = a * b\n",
        "h"
      ],
      "metadata": {
        "colab": {
          "base_uri": "https://localhost:8080/",
          "height": 46
        },
        "id": "xznifKLWEdlu",
        "outputId": "8eca3ff4-a5e5-4da9-f7cd-03abcc2dced1"
      },
      "execution_count": null,
      "outputs": [
        {
          "output_type": "execute_result",
          "data": {
            "text/plain": [
              "Vector([5, 10, 15])"
            ],
            "text/html": [
              "<p style=\"text-align:center;\">$\\begin{pmatrix}5\\\\ 10\\\\ 15\\end{pmatrix}$</p>"
            ],
            "image/png": "$\\begin{pmatrix}5\\\\ 10\\\\ 15\\end{pmatrix}$",
            "text/latex": "$\\begin{pmatrix}5\\\\ 10\\\\ 15\\end{pmatrix}$"
          },
          "metadata": {},
          "execution_count": 37
        }
      ]
    },
    {
      "cell_type": "markdown",
      "source": [
        "$\\begin{pmatrix}5\\\\ 10\\\\ 15\\end{pmatrix}$"
      ],
      "metadata": {
        "id": "Q4qkxSbZEh53"
      }
    },
    {
      "cell_type": "markdown",
      "source": [
        "Es una regla general para\n",
        "cualquier par de vectores, ejercicio 7\n",
        "$$\n",
        "2\n",
        "\\left (3\n",
        "\\begin{bmatrix}\n",
        " 1\\\\2\n",
        " \\\\\n",
        "\\end{bmatrix}\n",
        "\\right )\n",
        "=\n",
        "\\left (  2 * 3\\right )\n",
        "*\n",
        "\\begin{bmatrix}\n",
        " 1\\\\2\n",
        " \\\\\n",
        "\\end{bmatrix}\n",
        "$$"
      ],
      "metadata": {
        "id": "YHXBBaOxROkP"
      }
    },
    {
      "cell_type": "code",
      "source": [
        "a = 3 * 2\n",
        "b = Vector([1,2,])\n",
        "h = a * b\n",
        "h"
      ],
      "metadata": {
        "colab": {
          "base_uri": "https://localhost:8080/",
          "height": 46
        },
        "id": "2EFE9Y_jEisI",
        "outputId": "be4eaf63-59a5-4f3a-8450-68b7ae123040"
      },
      "execution_count": null,
      "outputs": [
        {
          "output_type": "execute_result",
          "data": {
            "text/plain": [
              "Vector([6, 12])"
            ],
            "text/html": [
              "<p style=\"text-align:center;\">$\\begin{pmatrix}6\\\\ 12\\end{pmatrix}$</p>"
            ],
            "image/png": "$\\begin{pmatrix}6\\\\ 12\\end{pmatrix}$",
            "text/latex": "$\\begin{pmatrix}6\\\\ 12\\end{pmatrix}$"
          },
          "metadata": {},
          "execution_count": 38
        }
      ]
    },
    {
      "cell_type": "markdown",
      "source": [
        "$\\begin{pmatrix}6\\\\ 12\\end{pmatrix}$"
      ],
      "metadata": {
        "id": "TT7C8D3TEm97"
      }
    },
    {
      "cell_type": "markdown",
      "source": [
        "Es cierto solo para el escalar a = 1\n",
        "ejercicio 8\n",
        "\n",
        "$$\n",
        "a\\begin{bmatrix}\n",
        " 1\\\\2\n",
        " \\\\3\n",
        "\\end{bmatrix}\n",
        "=\\begin{bmatrix}\n",
        " 1\\\\2\n",
        " \\\\3\n",
        "\\end{bmatrix}\n",
        "$$"
      ],
      "metadata": {
        "id": "FDxTyybVRSdv"
      }
    },
    {
      "cell_type": "code",
      "source": [
        "a = a\n",
        "b = Vector([1,2,3])\n",
        "c = a * b\n",
        "c"
      ],
      "metadata": {
        "colab": {
          "base_uri": "https://localhost:8080/",
          "height": 46
        },
        "id": "pImP5rjVIEG6",
        "outputId": "c2adc1d3-721b-49ca-fb46-1fa1ac200004"
      },
      "execution_count": 7,
      "outputs": [
        {
          "output_type": "execute_result",
          "data": {
            "text/plain": [
              "Vector([23, 29, 35, 41, 47])"
            ],
            "text/html": [
              "<p style=\"text-align:center;\">$\\begin{pmatrix}23\\\\ 29\\\\ 35\\\\ 41\\\\ 47\\end{pmatrix}$</p>"
            ],
            "image/png": "$\\begin{pmatrix}23\\\\ 29\\\\ 35\\\\ 41\\\\ 47\\end{pmatrix}$",
            "text/latex": "$\\begin{pmatrix}23\\\\ 29\\\\ 35\\\\ 41\\\\ 47\\end{pmatrix}$"
          },
          "metadata": {},
          "execution_count": 7
        }
      ]
    },
    {
      "cell_type": "markdown",
      "source": [
        "$\\begin{pmatrix}6\\\\ 12\\\\ 18\\end{pmatrix}$"
      ],
      "metadata": {
        "id": "NOvzD7ZCSaXu"
      }
    },
    {
      "cell_type": "markdown",
      "source": [
        "##TAREA 2"
      ],
      "metadata": {
        "id": "5cE8i8SKM8Ha"
      }
    },
    {
      "cell_type": "markdown",
      "source": [
        "EJERCICIO 4\n",
        "\n",
        "(a) 3*b|1\n",
        "\n",
        "(b) 3*1|b\n",
        "\n",
        "(c) 1*3|b\n",
        "\n",
        "(d) 1|b*3"
      ],
      "metadata": {
        "id": "lBEMv1lwL79j"
      }
    },
    {
      "cell_type": "code",
      "source": [
        "b = Vector( [0,9,7] )\n",
        "print(\"(a)\")\n",
        "display(latex(latex(3*b|1)))\n",
        "print(\"(b)\")\n",
        "display(latex(latex(3*1|b)))\n",
        "print(\"(c)\")\n",
        "display(latex(latex(1*3|b)))\n",
        "print(\"(d)\")\n",
        "display(latex(latex(1|b*3)))"
      ],
      "metadata": {
        "colab": {
          "base_uri": "https://localhost:8080/",
          "height": 162
        },
        "id": "marlYPFnMbm8",
        "outputId": "2d7ea105-680e-476f-b42a-35d9f291b209"
      },
      "execution_count": 8,
      "outputs": [
        {
          "output_type": "stream",
          "name": "stdout",
          "text": [
            "(a)\n"
          ]
        },
        {
          "output_type": "display_data",
          "data": {
            "text/plain": [
              "'0'"
            ],
            "application/vnd.google.colaboratory.intrinsic+json": {
              "type": "string"
            }
          },
          "metadata": {}
        },
        {
          "output_type": "stream",
          "name": "stdout",
          "text": [
            "(b)\n"
          ]
        },
        {
          "output_type": "display_data",
          "data": {
            "text/plain": [
              "'7'"
            ],
            "application/vnd.google.colaboratory.intrinsic+json": {
              "type": "string"
            }
          },
          "metadata": {}
        },
        {
          "output_type": "stream",
          "name": "stdout",
          "text": [
            "(c)\n"
          ]
        },
        {
          "output_type": "display_data",
          "data": {
            "text/plain": [
              "'7'"
            ],
            "application/vnd.google.colaboratory.intrinsic+json": {
              "type": "string"
            }
          },
          "metadata": {}
        },
        {
          "output_type": "stream",
          "name": "stdout",
          "text": [
            "(d)\n"
          ]
        },
        {
          "output_type": "display_data",
          "data": {
            "text/plain": [
              "'0'"
            ],
            "application/vnd.google.colaboratory.intrinsic+json": {
              "type": "string"
            }
          },
          "metadata": {}
        }
      ]
    },
    {
      "cell_type": "code",
      "source": [
        "from nacal import *\n",
        "from IPython.display import display, Math, Latex\n",
        "\n",
        "d = Vector( [4, 5, 6, 3, 8] )\n",
        "e = Vector( [1, 2, 3, 4, 9] )\n",
        "f = Vector( [9, 10, 14, 12, 15] )\n",
        "b = Matrix([d, e, f])\n",
        "a = Matrix([f, e, d])\n",
        "c = Matrix([e, f, d])\n",
        "display(Latex(latex(b)))\n",
        "display(Latex(latex(a)))"
      ],
      "metadata": {
        "colab": {
          "base_uri": "https://localhost:8080/",
          "height": 220
        },
        "id": "P4C3EQf2LVF6",
        "outputId": "b16e59d2-bb8c-4489-adbc-5613ed14b825"
      },
      "execution_count": 16,
      "outputs": [
        {
          "output_type": "display_data",
          "data": {
            "text/plain": [
              "<IPython.core.display.Latex object>"
            ],
            "text/latex": "\\left[ \\begin{array}{ccc}4&1&9\\\\5&2&10\\\\6&3&11\\\\7&4&12\\\\8&5&13\\\\ \\end{array} \\right]"
          },
          "metadata": {}
        },
        {
          "output_type": "display_data",
          "data": {
            "text/plain": [
              "<IPython.core.display.Latex object>"
            ],
            "text/latex": "\\left[ \\begin{array}{ccc}9&1&4\\\\10&2&5\\\\11&3&6\\\\12&4&7\\\\13&5&8\\\\ \\end{array} \\right]"
          },
          "metadata": {}
        }
      ]
    },
    {
      "cell_type": "markdown",
      "source": [
        "##EJERCICIO 6"
      ],
      "metadata": {
        "id": "EEtLVqPhNFiQ"
      }
    },
    {
      "cell_type": "markdown",
      "source": [
        "###Demuestre las propiedades de la siguiente proposición:"
      ],
      "metadata": {
        "id": "3Ap3dp2rNMyG"
      }
    },
    {
      "cell_type": "markdown",
      "source": [
        "#A+B=B+A"
      ],
      "metadata": {
        "id": "A5AWfz3lNQH4"
      }
    },
    {
      "cell_type": "code",
      "source": [
        "display(Latex(latex(a+b)))\n",
        "display(Latex(latex(b+a)))"
      ],
      "metadata": {
        "colab": {
          "base_uri": "https://localhost:8080/",
          "height": 220
        },
        "id": "5y-MRh87NSvG",
        "outputId": "f9b7e19e-9569-4ac6-9852-59da6c28a9f5"
      },
      "execution_count": 17,
      "outputs": [
        {
          "output_type": "display_data",
          "data": {
            "text/plain": [
              "<IPython.core.display.Latex object>"
            ],
            "text/latex": "\\left[ \\begin{array}{ccc}13&2&13\\\\15&4&15\\\\17&6&17\\\\19&8&19\\\\21&10&21\\\\ \\end{array} \\right]"
          },
          "metadata": {}
        },
        {
          "output_type": "display_data",
          "data": {
            "text/plain": [
              "<IPython.core.display.Latex object>"
            ],
            "text/latex": "\\left[ \\begin{array}{ccc}13&2&13\\\\15&4&15\\\\17&6&17\\\\19&8&19\\\\21&10&21\\\\ \\end{array} \\right]"
          },
          "metadata": {}
        }
      ]
    },
    {
      "cell_type": "markdown",
      "source": [
        "es correcta la propiedad"
      ],
      "metadata": {
        "id": "T43DxSh-PE-R"
      }
    },
    {
      "cell_type": "markdown",
      "source": [
        "#A+(B+C)=(A+B)+C"
      ],
      "metadata": {
        "id": "WrJQzEqNPLgI"
      }
    },
    {
      "cell_type": "code",
      "source": [
        "display(Latex(latex(a+(b+c))))\n",
        "display(Latex(latex((a+b)+c)))"
      ],
      "metadata": {
        "colab": {
          "base_uri": "https://localhost:8080/",
          "height": 220
        },
        "id": "tXIOj_ZBPQ07",
        "outputId": "1c7e0ae0-e545-49a4-8287-157ac43f67c2"
      },
      "execution_count": 18,
      "outputs": [
        {
          "output_type": "display_data",
          "data": {
            "text/plain": [
              "<IPython.core.display.Latex object>"
            ],
            "text/latex": "\\left[ \\begin{array}{ccc}14&11&17\\\\17&14&20\\\\20&17&23\\\\23&20&26\\\\26&23&29\\\\ \\end{array} \\right]"
          },
          "metadata": {}
        },
        {
          "output_type": "display_data",
          "data": {
            "text/plain": [
              "<IPython.core.display.Latex object>"
            ],
            "text/latex": "\\left[ \\begin{array}{ccc}14&11&17\\\\17&14&20\\\\20&17&23\\\\23&20&26\\\\26&23&29\\\\ \\end{array} \\right]"
          },
          "metadata": {}
        }
      ]
    },
    {
      "cell_type": "markdown",
      "source": [
        "es correcta la propiedad\n"
      ],
      "metadata": {
        "id": "1nXdWVV5PT9s"
      }
    },
    {
      "cell_type": "markdown",
      "source": [
        "#0+A=A"
      ],
      "metadata": {
        "id": "5OCcfgm1PaFt"
      }
    },
    {
      "cell_type": "code",
      "source": [
        "display(Latex(latex(0+(1|a|1))))\n",
        "display(Latex(latex(1|a|1)))"
      ],
      "metadata": {
        "colab": {
          "base_uri": "https://localhost:8080/",
          "height": 58
        },
        "id": "Yau82fLuPdRM",
        "outputId": "7ce9ce4c-c71e-4828-e9ac-481440a593d8"
      },
      "execution_count": 19,
      "outputs": [
        {
          "output_type": "display_data",
          "data": {
            "text/plain": [
              "<IPython.core.display.Latex object>"
            ],
            "text/latex": "9"
          },
          "metadata": {}
        },
        {
          "output_type": "display_data",
          "data": {
            "text/plain": [
              "<IPython.core.display.Latex object>"
            ],
            "text/latex": "9"
          },
          "metadata": {}
        }
      ]
    },
    {
      "cell_type": "markdown",
      "source": [
        "es correcta la propiedad"
      ],
      "metadata": {
        "id": "K_XqOANIPfl0"
      }
    },
    {
      "cell_type": "markdown",
      "source": [
        "#A+(-A)=0"
      ],
      "metadata": {
        "id": "qKZ-qhVUPkqX"
      }
    },
    {
      "cell_type": "code",
      "source": [
        "display(Latex(latex(a+(-a))))"
      ],
      "metadata": {
        "colab": {
          "base_uri": "https://localhost:8080/",
          "height": 119
        },
        "id": "O7EWCGH0Pmtq",
        "outputId": "ed28dbae-fc40-4d16-d686-c24e5a666d43"
      },
      "execution_count": 20,
      "outputs": [
        {
          "output_type": "display_data",
          "data": {
            "text/plain": [
              "<IPython.core.display.Latex object>"
            ],
            "text/latex": "\\left[ \\begin{array}{ccc}0&0&0\\\\0&0&0\\\\0&0&0\\\\0&0&0\\\\0&0&0\\\\ \\end{array} \\right]"
          },
          "metadata": {}
        }
      ]
    },
    {
      "cell_type": "markdown",
      "source": [
        "##es correcta la propiedad"
      ],
      "metadata": {
        "id": "0DeBK4DCPpgG"
      }
    },
    {
      "cell_type": "markdown",
      "source": [
        "#λ(A+B)=λA+λB"
      ],
      "metadata": {
        "id": "OtdOO0T1PtnO"
      }
    },
    {
      "cell_type": "code",
      "source": [
        "display(Latex(latex(3*(a+b))))\n",
        "display(Latex(latex((3*a)+(3*b))))"
      ],
      "metadata": {
        "colab": {
          "base_uri": "https://localhost:8080/",
          "height": 220
        },
        "id": "LY6nbCdcPvyV",
        "outputId": "d677e384-c0cf-470c-ae04-f42a674b1750"
      },
      "execution_count": 21,
      "outputs": [
        {
          "output_type": "display_data",
          "data": {
            "text/plain": [
              "<IPython.core.display.Latex object>"
            ],
            "text/latex": "\\left[ \\begin{array}{ccc}39&6&39\\\\45&12&45\\\\51&18&51\\\\57&24&57\\\\63&30&63\\\\ \\end{array} \\right]"
          },
          "metadata": {}
        },
        {
          "output_type": "display_data",
          "data": {
            "text/plain": [
              "<IPython.core.display.Latex object>"
            ],
            "text/latex": "\\left[ \\begin{array}{ccc}39&6&39\\\\45&12&45\\\\51&18&51\\\\57&24&57\\\\63&30&63\\\\ \\end{array} \\right]"
          },
          "metadata": {}
        }
      ]
    },
    {
      "cell_type": "markdown",
      "source": [
        "##es correcta la propiedad"
      ],
      "metadata": {
        "id": "TdsVnjUtPxZb"
      }
    },
    {
      "cell_type": "markdown",
      "source": [
        "#(λ+n)A=λA+n*A"
      ],
      "metadata": {
        "id": "tLZov17ZP2Xu"
      }
    },
    {
      "cell_type": "code",
      "source": [
        "display(Latex(latex((3+2)*a)))\n",
        "display(Latex(latex((3*a)+(2*a))))"
      ],
      "metadata": {
        "colab": {
          "base_uri": "https://localhost:8080/",
          "height": 220
        },
        "id": "RbdBNJC1P7QY",
        "outputId": "3cf260a1-d95e-40a0-dd43-18c747ffc1e3"
      },
      "execution_count": 22,
      "outputs": [
        {
          "output_type": "display_data",
          "data": {
            "text/plain": [
              "<IPython.core.display.Latex object>"
            ],
            "text/latex": "\\left[ \\begin{array}{ccc}45&5&20\\\\50&10&25\\\\55&15&30\\\\60&20&35\\\\65&25&40\\\\ \\end{array} \\right]"
          },
          "metadata": {}
        },
        {
          "output_type": "display_data",
          "data": {
            "text/plain": [
              "<IPython.core.display.Latex object>"
            ],
            "text/latex": "\\left[ \\begin{array}{ccc}45&5&20\\\\50&10&25\\\\55&15&30\\\\60&20&35\\\\65&25&40\\\\ \\end{array} \\right]"
          },
          "metadata": {}
        }
      ]
    },
    {
      "cell_type": "markdown",
      "source": [
        "##es correcta la propiedad"
      ],
      "metadata": {
        "id": "gjeR6NxJP8_K"
      }
    },
    {
      "cell_type": "markdown",
      "source": [
        "#λ(nA)=(λn)A"
      ],
      "metadata": {
        "id": "gPFHIqz_QBO_"
      }
    },
    {
      "cell_type": "code",
      "source": [
        "display(Latex(latex(3*(2*a))))\n",
        "display(Latex(latex((2*3)*a)))"
      ],
      "metadata": {
        "colab": {
          "base_uri": "https://localhost:8080/",
          "height": 220
        },
        "id": "z2uWIsHHQDqE",
        "outputId": "9d977310-4aea-4f37-826a-283de30b110e"
      },
      "execution_count": 23,
      "outputs": [
        {
          "output_type": "display_data",
          "data": {
            "text/plain": [
              "<IPython.core.display.Latex object>"
            ],
            "text/latex": "\\left[ \\begin{array}{ccc}54&6&24\\\\60&12&30\\\\66&18&36\\\\72&24&42\\\\78&30&48\\\\ \\end{array} \\right]"
          },
          "metadata": {}
        },
        {
          "output_type": "display_data",
          "data": {
            "text/plain": [
              "<IPython.core.display.Latex object>"
            ],
            "text/latex": "\\left[ \\begin{array}{ccc}54&6&24\\\\60&12&30\\\\66&18&36\\\\72&24&42\\\\78&30&48\\\\ \\end{array} \\right]"
          },
          "metadata": {}
        }
      ]
    },
    {
      "cell_type": "markdown",
      "source": [
        "##es correcta la propiedad"
      ],
      "metadata": {
        "id": "uEJeV71sQFjF"
      }
    },
    {
      "cell_type": "markdown",
      "source": [
        "#1A=A"
      ],
      "metadata": {
        "id": "8sLNIUt8QLqW"
      }
    },
    {
      "cell_type": "code",
      "source": [
        "display(Latex(latex(a)))\n",
        "display(Latex(latex(1*a)))"
      ],
      "metadata": {
        "colab": {
          "base_uri": "https://localhost:8080/",
          "height": 220
        },
        "id": "r1a12HiVQNMm",
        "outputId": "7066baf5-a17b-4b9f-8874-f1e2069df4c5"
      },
      "execution_count": 24,
      "outputs": [
        {
          "output_type": "display_data",
          "data": {
            "text/plain": [
              "<IPython.core.display.Latex object>"
            ],
            "text/latex": "\\left[ \\begin{array}{ccc}9&1&4\\\\10&2&5\\\\11&3&6\\\\12&4&7\\\\13&5&8\\\\ \\end{array} \\right]"
          },
          "metadata": {}
        },
        {
          "output_type": "display_data",
          "data": {
            "text/plain": [
              "<IPython.core.display.Latex object>"
            ],
            "text/latex": "\\left[ \\begin{array}{ccc}9&1&4\\\\10&2&5\\\\11&3&6\\\\12&4&7\\\\13&5&8\\\\ \\end{array} \\right]"
          },
          "metadata": {}
        }
      ]
    },
    {
      "cell_type": "markdown",
      "source": [
        "##es correcta la propiedad"
      ],
      "metadata": {
        "id": "wVRW81vGQO-0"
      }
    }
  ]
}