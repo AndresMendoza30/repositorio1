{
  "nbformat": 4,
  "nbformat_minor": 0,
  "metadata": {
    "colab": {
      "provenance": [],
      "include_colab_link": true
    },
    "kernelspec": {
      "name": "python3",
      "display_name": "Python 3"
    },
    "language_info": {
      "name": "python"
    }
  },
  "cells": [
    {
      "cell_type": "markdown",
      "metadata": {
        "id": "view-in-github",
        "colab_type": "text"
      },
      "source": [
        "<a href=\"https://colab.research.google.com/github/AndresMendoza30/repositorio1/blob/EJERCICIOS-PARA-EL-1-DE-ABRIL/Tarea4.ipynb\" target=\"_parent\"><img src=\"https://colab.research.google.com/assets/colab-badge.svg\" alt=\"Open In Colab\"/></a>"
      ]
    },
    {
      "cell_type": "markdown",
      "metadata": {
        "id": "LiJ1aW_Nj1X5"
      },
      "source": [
        "### Primer ejercicio\n",
        "\n"
      ]
    },
    {
      "cell_type": "markdown",
      "metadata": {
        "id": "roLWrzwXj1X6"
      },
      "source": [
        "Cree la matriz\n",
        "$${A}=\\begin{bmatrix}1&0&0&0\\\\2&0&0&0\\\\0&3&3&0\\\\0&3&4&1\\\\0&1&2&1\\end{bmatrix}$$\n",
        "\n"
      ]
    },
    {
      "cell_type": "code",
      "source": [
        "import numpy as np\n",
        "\n",
        "# Definir la matriz A\n",
        "A = np.array([[1, 0, 0, 0],\n",
        "              [2, 0, 0, 0],\n",
        "              [0, 3, 3, 0],\n",
        "              [0, 3, 4, 1],\n",
        "              [0, 1, 2, 1]])\n",
        "\n",
        "# Mostrar la matriz A\n",
        "print(\"Matriz A:\")\n",
        "print(A)\n"
      ],
      "metadata": {
        "id": "aptVBvt0ks39",
        "outputId": "eea0ee2a-3e95-41d0-d18a-5eb8b38a74e2",
        "colab": {
          "base_uri": "https://localhost:8080/"
        }
      },
      "execution_count": 1,
      "outputs": [
        {
          "output_type": "stream",
          "name": "stdout",
          "text": [
            "Matriz A:\n",
            "[[1 0 0 0]\n",
            " [2 0 0 0]\n",
            " [0 3 3 0]\n",
            " [0 3 4 1]\n",
            " [0 1 2 1]]\n"
          ]
        }
      ]
    },
    {
      "cell_type": "markdown",
      "metadata": {
        "id": "uXXsQDPtj1X6"
      },
      "source": [
        "Cree a partir de ${A}$ una matriz cuya única columna sea la\n",
        "primera columna de ${A}$\n",
        "\n"
      ]
    },
    {
      "cell_type": "code",
      "source": [
        "# Definir la matriz A\n",
        "A = np.array([[1, 0, 0, 0],\n",
        "              [2, 0, 0, 0],\n",
        "              [0, 3, 3, 0],\n",
        "              [0, 3, 4, 1],\n",
        "              [0, 1, 2, 1]])\n",
        "\n",
        "# Seleccionar la primera columna de A\n",
        "primera_columna = A[:, 0]\n",
        "\n",
        "# Crear una nueva matriz con la única columna de A\n",
        "nueva_matriz = primera_columna.reshape(-1, 1)\n",
        "\n",
        "# Mostrar la nueva matriz\n",
        "print(\"Matriz con única columna de A:\")\n",
        "print(nueva_matriz)\n"
      ],
      "metadata": {
        "id": "4ks9WtQ2k1zI",
        "outputId": "aa147d1a-c8e0-43d6-dd1f-4fbf9286b77c",
        "colab": {
          "base_uri": "https://localhost:8080/"
        }
      },
      "execution_count": 3,
      "outputs": [
        {
          "output_type": "stream",
          "name": "stdout",
          "text": [
            "Matriz con única columna de A:\n",
            "[[1]\n",
            " [2]\n",
            " [0]\n",
            " [0]\n",
            " [0]]\n"
          ]
        }
      ]
    },
    {
      "cell_type": "markdown",
      "metadata": {
        "id": "M8GNqqerj1X7"
      },
      "source": [
        "Cree a partir de ${A}$ una matriz cuya única columna sea la segunda\n",
        "fila de ${A}$\n",
        "\n"
      ]
    },
    {
      "cell_type": "code",
      "source": [
        "# Definir la matriz A\n",
        "A = np.array([[1, 0, 0, 0],\n",
        "              [2, 0, 0, 0],\n",
        "              [0, 3, 3, 0],\n",
        "              [0, 3, 4, 1],\n",
        "              [0, 1, 2, 1]])\n",
        "\n",
        "# Seleccionar la segunda fila de A y convertirla en una matriz columna\n",
        "segunda_fila = A[1, :].reshape(-1, 1)\n",
        "\n",
        "# Mostrar la nueva matriz\n",
        "print(\"Matriz con única columna de la segunda fila de A:\")\n",
        "print(segunda_fila)\n"
      ],
      "metadata": {
        "id": "G13H5wEAlBM-",
        "outputId": "259a2e01-e13a-4739-b55d-f729c5c445aa",
        "colab": {
          "base_uri": "https://localhost:8080/"
        }
      },
      "execution_count": 4,
      "outputs": [
        {
          "output_type": "stream",
          "name": "stdout",
          "text": [
            "Matriz con única columna de la segunda fila de A:\n",
            "[[2]\n",
            " [0]\n",
            " [0]\n",
            " [0]]\n"
          ]
        }
      ]
    },
    {
      "cell_type": "markdown",
      "metadata": {
        "id": "AKjPfZxaj1X8"
      },
      "source": [
        "<div class=\"EXERCISE\">\n",
        "Cree a partir de $A$ una matriz cuya única fila sea la primera\n",
        "fila de $A$\n",
        "\n",
        "</div>\n",
        "\n"
      ]
    },
    {
      "cell_type": "code",
      "source": [
        "# Definir la matriz A\n",
        "A = np.array([[1, 0, 0, 0],\n",
        "              [2, 0, 0, 0],\n",
        "              [0, 3, 3, 0],\n",
        "              [0, 3, 4, 1],\n",
        "              [0, 1, 2, 1]])\n",
        "\n",
        "# Seleccionar la primera fila de A y convertirla en una matriz fila\n",
        "primera_fila = A[0, :].reshape(1, -1)\n",
        "\n",
        "# Mostrar la nueva matriz\n",
        "print(\"Matriz con única fila de la primera fila de A:\")\n",
        "print(primera_fila)\n"
      ],
      "metadata": {
        "id": "d0omQE0rlGMW",
        "outputId": "370e48fd-3a26-4814-82b2-6182eafb5de5",
        "colab": {
          "base_uri": "https://localhost:8080/"
        }
      },
      "execution_count": 5,
      "outputs": [
        {
          "output_type": "stream",
          "name": "stdout",
          "text": [
            "Matriz con única fila de la primera fila de A:\n",
            "[[1 0 0 0]]\n"
          ]
        }
      ]
    },
    {
      "cell_type": "markdown",
      "metadata": {
        "id": "BaPPzRJjj1X9"
      },
      "source": [
        "### Segundo ejercicio\n",
        "\n"
      ]
    },
    {
      "cell_type": "markdown",
      "metadata": {
        "id": "96CPH5a_j1X9"
      },
      "source": [
        "Calcule el siguiente vector: 3 veces la primera columna de $A$\n",
        "menos la segunda columna de $A$ mas 2 veces la tercera columna\n",
        "menos 3 veces la última columna de $A$\n",
        "\n"
      ]
    },
    {
      "cell_type": "code",
      "source": [
        "import numpy as np\n",
        "\n",
        "# Definir la matriz A\n",
        "A = np.array([[1, 0, 0, 0],\n",
        "              [2, 0, 0, 0],\n",
        "              [0, 3, 3, 0],\n",
        "              [0, 3, 4, 1],\n",
        "              [0, 1, 2, 1]])\n",
        "\n",
        "# Calcular el vector resultante\n",
        "vector_resultante = 3 * A[:, 0] - A[:, 1] + 2 * A[:, 2] - 3 * A[:, 3]\n",
        "\n",
        "# Mostrar el vector resultante\n",
        "print(\"Vector resultante:\")\n",
        "print(vector_resultante)\n"
      ],
      "metadata": {
        "id": "frH6ZOYnmErd",
        "outputId": "b86c6969-d55b-4300-a53a-f67ba442b959",
        "colab": {
          "base_uri": "https://localhost:8080/"
        }
      },
      "execution_count": 6,
      "outputs": [
        {
          "output_type": "stream",
          "name": "stdout",
          "text": [
            "Vector resultante:\n",
            "[3 6 3 2 0]\n"
          ]
        }
      ]
    },
    {
      "cell_type": "markdown",
      "metadata": {
        "id": "MxEQJrEKj1X-"
      },
      "source": [
        "### Tercer ejercicio\n",
        "\n"
      ]
    },
    {
      "cell_type": "markdown",
      "metadata": {
        "id": "dsc0wXPHj1YA"
      },
      "source": [
        "Proporcione ejemplos de matrices 3 por 3 no nulas de los siguientes\n",
        "tipos de matrices:\n",
        "\n",
        "-   Una matriz diagonal\n",
        "\n"
      ]
    },
    {
      "cell_type": "code",
      "source": [
        "\n",
        "# Matriz diagonal\n",
        "matriz_diagonal = np.diag([1, 2, 3])\n",
        "\n",
        "print(\"Matriz diagonal:\")\n",
        "print(matriz_diagonal)\n"
      ],
      "metadata": {
        "id": "T6blJI3YmQt1",
        "outputId": "79a8c63c-2a8a-4a41-d749-67bdc02308f0",
        "colab": {
          "base_uri": "https://localhost:8080/"
        }
      },
      "execution_count": 7,
      "outputs": [
        {
          "output_type": "stream",
          "name": "stdout",
          "text": [
            "Matriz diagonal:\n",
            "[[1 0 0]\n",
            " [0 2 0]\n",
            " [0 0 3]]\n"
          ]
        }
      ]
    },
    {
      "cell_type": "markdown",
      "metadata": {
        "id": "j5rXy3Waj1YA"
      },
      "source": [
        "-   Una matriz simétrica\n",
        "\n"
      ]
    },
    {
      "cell_type": "code",
      "source": [
        "\n",
        "# Definir una matriz simétrica 3x3\n",
        "matriz_simetrica = np.array([[1, 2, 3],\n",
        "                             [2, 4, 5],\n",
        "                             [3, 5, 6]])\n",
        "\n",
        "print(\"Matriz simétrica:\")\n",
        "print(matriz_simetrica)\n"
      ],
      "metadata": {
        "id": "zDghbArCmQ-v",
        "outputId": "63cd4d0e-32a2-414a-dc4e-d1d18c3ccca1",
        "colab": {
          "base_uri": "https://localhost:8080/"
        }
      },
      "execution_count": 8,
      "outputs": [
        {
          "output_type": "stream",
          "name": "stdout",
          "text": [
            "Matriz simétrica:\n",
            "[[1 2 3]\n",
            " [2 4 5]\n",
            " [3 5 6]]\n"
          ]
        }
      ]
    },
    {
      "cell_type": "markdown",
      "metadata": {
        "id": "UHEAMjHQj1YB"
      },
      "source": [
        "-   Una matriz triangular superior (es decir, que todos los elementos\n",
        "    por *debajo* de la diagonal son nulos).\n",
        "\n"
      ]
    },
    {
      "cell_type": "code",
      "source": [
        "\n",
        "# Definir una matriz triangular superior 3x3\n",
        "matriz_triangular_sup = np.array([[1, 2, 3],\n",
        "                                  [0, 4, 5],\n",
        "                                  [0, 0, 6]])\n",
        "\n",
        "print(\"Matriz triangular superior:\")\n",
        "print(matriz_triangular_sup)\n"
      ],
      "metadata": {
        "id": "WIJVEVe2mV0E",
        "outputId": "fbabb743-ee98-474e-db45-3274a4864c07",
        "colab": {
          "base_uri": "https://localhost:8080/"
        }
      },
      "execution_count": 9,
      "outputs": [
        {
          "output_type": "stream",
          "name": "stdout",
          "text": [
            "Matriz triangular superior:\n",
            "[[1 2 3]\n",
            " [0 4 5]\n",
            " [0 0 6]]\n"
          ]
        }
      ]
    },
    {
      "cell_type": "markdown",
      "metadata": {
        "id": "3y1hiNo_j1YC"
      },
      "source": [
        "-   Una matriz antisimétrica (es decir, que su transpuesta es igual a su opuesta: $ {A}^{T}=-A $ ).\n",
        "\n"
      ]
    },
    {
      "cell_type": "code",
      "source": [
        "\n",
        "# Definir una matriz antisimétrica 3x3\n",
        "matriz_antisimetrica = np.array([[0, 1, -2],\n",
        "                                 [-1, 0, 3],\n",
        "                                 [2, -3, 0]])\n",
        "\n",
        "# Comprobar si la matriz es antisimétrica\n",
        "es_antisimetrica = np.allclose(matriz_antisimetrica, -matriz_antisimetrica.T)\n",
        "\n",
        "print(\"Matriz antisimétrica:\")\n",
        "print(matriz_antisimetrica)\n",
        "\n",
        "if es_antisimetrica:\n",
        "    print(\"La matriz es antisimétrica.\")\n",
        "else:\n",
        "    print(\"La matriz no es antisimétrica.\")\n"
      ],
      "metadata": {
        "id": "txuWZ9K3tMxM",
        "outputId": "3337899a-e0e0-4c74-bec8-9a7e7cd0ff47",
        "colab": {
          "base_uri": "https://localhost:8080/"
        }
      },
      "execution_count": 10,
      "outputs": [
        {
          "output_type": "stream",
          "name": "stdout",
          "text": [
            "Matriz antisimétrica:\n",
            "[[ 0  1 -2]\n",
            " [-1  0  3]\n",
            " [ 2 -3  0]]\n",
            "La matriz es antisimétrica.\n"
          ]
        }
      ]
    },
    {
      "cell_type": "markdown",
      "source": [
        "### Cuarto ejercicio"
      ],
      "metadata": {
        "id": "Y-n7DWXJn7Zk"
      }
    },
    {
      "cell_type": "markdown",
      "metadata": {
        "ein.tags": "worksheet-0",
        "id": "053nn7kNnOXz"
      },
      "source": [
        "# Propiedades del producto Matriz por vector\n",
        "\n",
        "Genere una matriz $A$ (con el número de filas y columnas que\n",
        "desee) y dos vectores ${b}$ y ${c}$ con tantos componentes\n",
        "como columnas tenga $A$."
      ]
    },
    {
      "cell_type": "code",
      "execution_count": 15,
      "metadata": {
        "autoscroll": false,
        "ein.hycell": false,
        "ein.tags": "worksheet-0",
        "id": "MU-2x1n8Vpzq"
      },
      "outputs": [],
      "source": [
        "# Defina una matriz A\n",
        "import numpy as np\n",
        "\n",
        "# Definir las dimensiones de la matriz A\n",
        "num_filas = 4\n",
        "num_columnas = 3\n",
        "\n",
        "# Generar una matriz A de dimensiones num_filas x num_columnas\n",
        "A = np.random.randint(1, 10, size=(num_filas, num_columnas))"
      ]
    },
    {
      "cell_type": "code",
      "execution_count": 12,
      "metadata": {
        "autoscroll": false,
        "ein.hycell": false,
        "ein.tags": "worksheet-0",
        "id": "uoVFYfjqVpzq"
      },
      "outputs": [],
      "source": [
        "# Defina el vector b con tantos componentes como columnas tenga la matriz A\n",
        "b = np.random.randint(1, 10, size=num_columnas)"
      ]
    },
    {
      "cell_type": "code",
      "execution_count": 14,
      "metadata": {
        "autoscroll": false,
        "ein.hycell": false,
        "ein.tags": "worksheet-0",
        "id": "5HbLkf1LVpzr",
        "outputId": "8dcdce78-34a0-4832-a574-e452a9aedfb1",
        "colab": {
          "base_uri": "https://localhost:8080/"
        }
      },
      "outputs": [
        {
          "output_type": "stream",
          "name": "stdout",
          "text": [
            "Matriz A:\n",
            "[[1 0 0 0]\n",
            " [2 0 0 0]\n",
            " [0 3 3 0]\n",
            " [0 3 4 1]\n",
            " [0 1 2 1]]\n",
            "\n",
            "Vector b:\n",
            "[4 4 5]\n",
            "\n",
            "Vector c:\n",
            "[2 1 6]\n"
          ]
        }
      ],
      "source": [
        "# Defina el vector c con tantos componentes como el vector b\n",
        "c = np.random.randint(1, 10, size=num_columnas)\n",
        "# Mostrar la matriz A, los vectores b y c\n",
        "print(\"Matriz A:\")\n",
        "print(A)\n",
        "\n",
        "print(\"\\nVector b:\")\n",
        "print(b)\n",
        "\n",
        "print(\"\\nVector c:\")\n",
        "print(c)"
      ]
    },
    {
      "cell_type": "markdown",
      "metadata": {
        "ein.tags": "worksheet-0",
        "id": "HQu3l79dVpzr"
      },
      "source": [
        "Y ahora verifique las propiedades vistas en el curso (en todos los\n",
        "casos, verifique sus ejemplos también con lapiz y papel... recuerde\n",
        "que primero se realizan las operaciones encerradas entre paréntesis).\n",
        "\n",
        "$$ A({b}+{c}) = A{b} + A{c} $$"
      ]
    },
    {
      "cell_type": "code",
      "source": [
        "# Definir la matriz A, los vectores b y c\n",
        "A = np.array([[1, 2, 3],\n",
        "              [4, 5, 6],\n",
        "              [7, 8, 9]])\n",
        "\n",
        "b = np.array([2, 3, 4])\n",
        "c = np.array([5, 6, 7])"
      ],
      "metadata": {
        "id": "U8FWZVkeBLFu"
      },
      "execution_count": 16,
      "outputs": []
    },
    {
      "cell_type": "code",
      "execution_count": 17,
      "metadata": {
        "autoscroll": false,
        "ein.hycell": false,
        "ein.tags": "worksheet-0",
        "id": "hOUqYCBHVpzr"
      },
      "outputs": [],
      "source": [
        "# escriba aquí la parte izquierda de la ecuación: A*(b+c)\n",
        "resultado_izquierda = A.dot(b + c)"
      ]
    },
    {
      "cell_type": "code",
      "execution_count": 19,
      "metadata": {
        "autoscroll": false,
        "ein.hycell": false,
        "ein.tags": "worksheet-0",
        "id": "86RAGkgoVpzs",
        "outputId": "d0cfb2d8-3936-40bd-c0fc-80a39bb1121f",
        "colab": {
          "base_uri": "https://localhost:8080/"
        }
      },
      "outputs": [
        {
          "output_type": "stream",
          "name": "stdout",
          "text": [
            "La propiedad A(b+c) = Ab + Ac se cumple.\n",
            "Resultado izquierdo: [ 58 139 220]\n",
            "Resultado derecho: [ 58 139 220]\n"
          ]
        }
      ],
      "source": [
        "# escriba aquí la parte derecha de la ecuación\n",
        "resultado_derecha = A.dot(b) + A.dot(c)\n",
        "if np.array_equal(resultado_izquierda, resultado_derecha):\n",
        "    print(\"La propiedad A(b+c) = Ab + Ac se cumple.\")\n",
        "    print(\"Resultado izquierdo:\", resultado_izquierda)\n",
        "    print(\"Resultado derecho:\", resultado_derecha)\n",
        "else:\n",
        "    print(\"La propiedad A(b+c) = Ab + Ac no se cumple.\")\n",
        "    print(\"Resultado izquierdo:\", resultado_izquierda)\n",
        "    print(\"Resultado derecho:\", resultado_derecha)"
      ]
    },
    {
      "cell_type": "markdown",
      "source": [
        "### Quinto ejercicio"
      ],
      "metadata": {
        "id": "u0ri5khNnCKl"
      }
    },
    {
      "cell_type": "markdown",
      "metadata": {
        "ein.tags": "worksheet-0",
        "id": "9pvYQ32mVpzs"
      },
      "source": [
        "Decida un valor para el escalar $\\lambda$ y verifique que\n",
        "$$ A(\\lambda{b}) = \\lambda(A{b})$$"
      ]
    },
    {
      "cell_type": "code",
      "source": [
        "import numpy as np\n",
        "\n",
        "# Definir un valor para el escalar λ\n",
        "lmbda = 2\n",
        "\n",
        "# Definir la matriz A y el vector b\n",
        "A = np.array([[1, 3],\n",
        "              [9, 7]])\n",
        "b = np.array([5, 10])"
      ],
      "metadata": {
        "id": "qpbCoSTiFe8R"
      },
      "execution_count": 38,
      "outputs": []
    },
    {
      "cell_type": "code",
      "execution_count": 30,
      "metadata": {
        "autoscroll": false,
        "ein.hycell": false,
        "ein.tags": "worksheet-0",
        "id": "E4IN_Yy2Vpzs"
      },
      "outputs": [],
      "source": [
        "# escriba aquí la parte izquierda de la ecuación\n",
        "izquierda = A.dot(lmbda * b)"
      ]
    },
    {
      "cell_type": "code",
      "execution_count": 39,
      "metadata": {
        "autoscroll": false,
        "ein.hycell": false,
        "ein.tags": "worksheet-0",
        "id": "Ceudy6FmVpzt",
        "outputId": "a21665e2-c289-43d8-c664-8eb5a7a56e31",
        "colab": {
          "base_uri": "https://localhost:8080/"
        }
      },
      "outputs": [
        {
          "output_type": "stream",
          "name": "stdout",
          "text": [
            "La propiedad A(λb) = λ(Ab) no se cumple.\n",
            "Resultado izquierdo: [34 78]\n",
            "Resultado derecho: [ 70 230]\n"
          ]
        }
      ],
      "source": [
        "# escriba aquí la parte derecha de la ecuación\n",
        "derecha = lmbda * A.dot(b)\n",
        "\n",
        "# Verificar si los resultados son iguales\n",
        "if np.array_equal(izquierda, derecha):\n",
        "    print(\"La propiedad A(λb) = λ(Ab) se cumple.\")\n",
        "    print(\"Resultado izquierdo:\", izquierda)\n",
        "    print(\"Resultado derecho:\", derecha)\n",
        "else:\n",
        "    print(\"La propiedad A(λb) = λ(Ab) no se cumple.\")\n",
        "    print(\"Resultado izquierdo:\", izquierda)\n",
        "    print(\"Resultado derecho:\", derecha)"
      ]
    },
    {
      "cell_type": "markdown",
      "metadata": {
        "ein.tags": "worksheet-0",
        "id": "YlRYLashVpzu"
      },
      "source": [
        "Compuebe que en este caso no son necesarios los paréntesis:\n",
        "$$\\lambda A{b}\\;$$ (aunque en Python siempre necesite\n",
        "escribir los símbolos de producto `*`). Pruebe a colocar el escalar en\n",
        "cualquier posición, pero mantenga la matriz a la izquierda del vector."
      ]
    },
    {
      "cell_type": "code",
      "source": [
        "import numpy as np\n",
        "\n",
        "# Definir un valor para el escalar λ\n",
        "lmbda = 2\n",
        "\n",
        "# Definir la matriz A y el vector b\n",
        "A = np.array([[1, 2],\n",
        "              [3, 4]])\n",
        "b = np.array([5, 6])\n",
        "\n",
        "# Realizar la operación sin paréntesis adicionales\n",
        "resultado_sin_parentesis = lmbda * A.dot(b)\n",
        "\n",
        "# Realizar la operación con paréntesis para comparar\n",
        "resultado_con_parentesis = (lmbda * A).dot(b)\n",
        "\n",
        "# Verificar si los resultados son iguales\n",
        "if np.array_equal(resultado_sin_parentesis, resultado_con_parentesis):\n",
        "    print(\"En el caso λAb no son necesarios los paréntesis.\")\n",
        "    print(\"Resultado sin paréntesis:\", resultado_sin_parentesis)\n",
        "    print(\"Resultado con paréntesis:\", resultado_con_parentesis)\n",
        "else:\n",
        "    print(\"En el caso λAb son necesarios los paréntesis.\")\n",
        "    print(\"Resultado sin paréntesis:\", resultado_sin_parentesis)\n",
        "    print(\"Resultado con paréntesis:\", resultado_con_parentesis)\n"
      ],
      "metadata": {
        "id": "3H9UK8FOJLmU",
        "outputId": "c28cc117-4192-4c44-a9fa-870bb3076382",
        "colab": {
          "base_uri": "https://localhost:8080/"
        }
      },
      "execution_count": 34,
      "outputs": [
        {
          "output_type": "stream",
          "name": "stdout",
          "text": [
            "En el caso λAb no son necesarios los paréntesis.\n",
            "Resultado sin paréntesis: [34 78]\n",
            "Resultado con paréntesis: [34 78]\n"
          ]
        }
      ]
    },
    {
      "cell_type": "markdown",
      "source": [
        "### Sexto ejercicio"
      ],
      "metadata": {
        "id": "nRqO8LxBoNSI"
      }
    },
    {
      "cell_type": "markdown",
      "metadata": {
        "ein.tags": "worksheet-0",
        "id": "VSZ8vItpVpzv"
      },
      "source": [
        "Genere una matriz ${B}$ del mismo orden que $A$"
      ]
    },
    {
      "cell_type": "code",
      "execution_count": 40,
      "metadata": {
        "autoscroll": false,
        "ein.hycell": false,
        "ein.tags": "worksheet-0",
        "id": "NkFmEED_Vpzw",
        "outputId": "7c35ae4f-263f-4b43-8e31-a7efa0a8bf5d",
        "colab": {
          "base_uri": "https://localhost:8080/"
        }
      },
      "outputs": [
        {
          "output_type": "stream",
          "name": "stdout",
          "text": [
            "Matriz B:\n",
            "[[9 2 9]\n",
            " [3 7 8]\n",
            " [6 3 5]]\n"
          ]
        }
      ],
      "source": [
        "import numpy as np\n",
        "\n",
        "# Definir las dimensiones de la matriz B\n",
        "num_filas = 3\n",
        "num_columnas = 3\n",
        "\n",
        "# Generar una matriz B del mismo orden que A con valores aleatorios\n",
        "B = np.random.randint(1, 10, size=(num_filas, num_columnas))\n",
        "\n",
        "# Mostrar la matriz B\n",
        "print(\"Matriz B:\")\n",
        "print(B)\n"
      ]
    },
    {
      "cell_type": "markdown",
      "metadata": {
        "ein.tags": "worksheet-0",
        "id": "nqSTOOY0Vpzw"
      },
      "source": [
        "Verifique que\n",
        "\n",
        "$$ (A+B){c} = A{c} + B{c}$$"
      ]
    },
    {
      "cell_type": "code",
      "source": [
        "import numpy as np\n",
        "\n",
        "# Definir la matriz A, la matriz B y el vector c\n",
        "A = np.array([[1, 2, 3],\n",
        "              [7, 10, 6],\n",
        "              [7, 8, 9]])\n",
        "\n",
        "B = np.array([[9, 8, 7],\n",
        "              [6, 7, 9],\n",
        "              [3, 2, 1]])\n",
        "\n",
        "c = np.array([2, 3, 4])"
      ],
      "metadata": {
        "id": "rRvMmg6hKaka"
      },
      "execution_count": 46,
      "outputs": []
    },
    {
      "cell_type": "code",
      "source": [
        "izquierda = (A + B).dot(c)"
      ],
      "metadata": {
        "id": "UZByeI0qKQOT"
      },
      "execution_count": 42,
      "outputs": []
    },
    {
      "cell_type": "code",
      "execution_count": 43,
      "metadata": {
        "autoscroll": false,
        "ein.hycell": false,
        "ein.tags": "worksheet-0",
        "id": "2utRvpmSVpzx"
      },
      "outputs": [],
      "source": [
        "# escriba aquí la parte derecha de la ecuación\n",
        "derecha = A.dot(c) + B.dot(c)"
      ]
    },
    {
      "cell_type": "code",
      "source": [
        "if np.array_equal(izquierda, derecha):\n",
        "    print(\"La propiedad (A+B)c = Ac + Bc se cumple.\")\n",
        "    print(\"Resultado izquierdo:\", izquierda)\n",
        "    print(\"Resultado derecho:\", derecha)\n",
        "else:\n",
        "    print(\"La propiedad (A+B)c = Ac + Bc no se cumple.\")\n",
        "    print(\"Resultado izquierdo:\", izquierda)\n",
        "    print(\"Resultado derecho:\", derecha)"
      ],
      "metadata": {
        "id": "tLUtQbHlKgEu",
        "outputId": "d45b9db3-56de-473a-845d-0ddfca77c069",
        "colab": {
          "base_uri": "https://localhost:8080/"
        }
      },
      "execution_count": 47,
      "outputs": [
        {
          "output_type": "stream",
          "name": "stdout",
          "text": [
            "La propiedad (A+B)c = Ac + Bc se cumple.\n",
            "Resultado izquierdo: [90 90 90]\n",
            "Resultado derecho: [90 90 90]\n"
          ]
        }
      ]
    },
    {
      "cell_type": "code",
      "execution_count": 45,
      "metadata": {
        "autoscroll": false,
        "ein.hycell": false,
        "ein.tags": "worksheet-0",
        "id": "c1YZo_1NVpzx",
        "outputId": "1db48998-d10f-4a65-de6c-0b33a25a69d6",
        "colab": {
          "base_uri": "https://localhost:8080/"
        }
      },
      "outputs": [
        {
          "output_type": "stream",
          "name": "stdout",
          "text": [
            "Parte izquierda de la ecuación sin paréntesis adicionales:\n",
            "[90 90 90]\n"
          ]
        }
      ],
      "source": [
        "# escriba aquí la parte izquierda de la ecuación (¿funciona sin paréntesis?)\n",
        "# Definir la matriz A, la matriz B y el vector c\n",
        "A = np.array([[1, 2, 3],\n",
        "              [4, 5, 6],\n",
        "              [7, 8, 9]])\n",
        "\n",
        "B = np.array([[9, 8, 7],\n",
        "              [6, 5, 4],\n",
        "              [3, 2, 1]])\n",
        "\n",
        "c = np.array([2, 3, 4])\n",
        "\n",
        "# Calcular la parte izquierda de la ecuación sin paréntesis adicionales\n",
        "parte_izquierda_sin_parentesis = (A + B).dot(c)\n",
        "\n",
        "print(\"Parte izquierda de la ecuación sin paréntesis adicionales:\")\n",
        "print(parte_izquierda_sin_parentesis)\n"
      ]
    },
    {
      "cell_type": "markdown",
      "metadata": {
        "ein.tags": "worksheet-0",
        "id": "545Y5L3qVpz4"
      },
      "source": [
        "# Dos propiedades de la transposición\n",
        "\n",
        "Recuerde que `~A` es la transpuesta de `A`.\n",
        "\n",
        "Verfique que\n",
        "$$\n",
        "(A+B)^T=A^{T}+B^{T}\n",
        "$$"
      ]
    },
    {
      "cell_type": "code",
      "source": [
        "import numpy as np\n",
        "\n",
        "# Definir la matriz A y la matriz B\n",
        "A = np.array([[1, 2, 3],\n",
        "              [4, 5, 6],\n",
        "              [7, 8, 9]])\n",
        "\n",
        "B = np.array([[9, 8, 7],\n",
        "              [6, 5, 4],\n",
        "              [3, 2, 1]])"
      ],
      "metadata": {
        "id": "LW69JHziLE1l"
      },
      "execution_count": 48,
      "outputs": []
    },
    {
      "cell_type": "code",
      "execution_count": 49,
      "metadata": {
        "autoscroll": false,
        "ein.hycell": false,
        "ein.tags": "worksheet-0",
        "id": "cQKD0ad-Vpz5"
      },
      "outputs": [],
      "source": [
        "# escriba aquí la parte izquierda de la ecuación: ~(A + B)\n",
        "parte_izquierda = (A + B).T\n"
      ]
    },
    {
      "cell_type": "code",
      "execution_count": 51,
      "metadata": {
        "autoscroll": false,
        "ein.hycell": false,
        "ein.tags": "worksheet-0",
        "id": "P8MSW33aVpz6",
        "outputId": "b3d3ee8c-7a10-4ea1-cd4f-e959543d6576",
        "colab": {
          "base_uri": "https://localhost:8080/"
        }
      },
      "outputs": [
        {
          "output_type": "stream",
          "name": "stdout",
          "text": [
            "La propiedad (A + B)^T = A^T + B^T se cumple.\n",
            "Resultado izquierdo: [[10 10 10]\n",
            " [10 10 10]\n",
            " [10 10 10]]\n",
            "Resultado derecho: [[10 10 10]\n",
            " [10 10 10]\n",
            " [10 10 10]]\n"
          ]
        }
      ],
      "source": [
        "# escriba aquí la parte derecha de la ecuación\n",
        "parte_derecha = A.T + B.T\n",
        "if np.array_equal(parte_izquierda, parte_derecha):\n",
        "    print(\"La propiedad (A + B)^T = A^T + B^T se cumple.\")\n",
        "    print(\"Resultado izquierdo:\", parte_izquierda)\n",
        "    print(\"Resultado derecho:\", parte_derecha)\n",
        "else:\n",
        "    print(\"La propiedad (A + B)^T = A^T + B^T no se cumple.\")\n",
        "    print(\"Resultado izquierdo:\", parte_izquierda)\n",
        "    print(\"Resultado derecho:\", parte_derecha)"
      ]
    },
    {
      "cell_type": "markdown",
      "metadata": {
        "ein.tags": "worksheet-0",
        "id": "g2A04WcFVpz6"
      },
      "source": [
        "¿Necesitamos usar paréntesis para el lado izquierdo? ¿Y para el derecho?"
      ]
    },
    {
      "cell_type": "code",
      "source": [
        "# Definir la matriz A y la matriz B\n",
        "A = np.array([[1, 2, 3],\n",
        "              [4, 5, 6],\n",
        "              [7, 8, 9]])\n",
        "\n",
        "B = np.array([[9, 8, 7],\n",
        "              [6, 5, 4],\n",
        "              [3, 2, 1]])\n",
        "\n",
        "# Calcular la parte izquierda de la ecuación sin paréntesis adicionales\n",
        "parte_izquierda_sin_parentesis = (A + B).T\n",
        "\n",
        "# Calcular la parte derecha de la ecuación sin paréntesis adicionales\n",
        "parte_derecha_sin_parentesis = A.T + B.T\n",
        "\n",
        "# Verificar si los resultados son iguales\n",
        "if np.array_equal(parte_izquierda_sin_parentesis, parte_derecha_sin_parentesis):\n",
        "    print(\"No son necesarios paréntesis adicionales para ambos lados de la ecuación.\")\n",
        "    print(\"Resultado izquierdo:\", parte_izquierda_sin_parentesis)\n",
        "    print(\"Resultado derecho:\", parte_derecha_sin_parentesis)\n",
        "else:\n",
        "    print(\"Los paréntesis adicionales son necesarios para al menos uno de los lados de la ecuación.\")\n",
        "    print(\"Resultado izquierdo:\", parte_izquierda_sin_parentesis)\n",
        "    print(\"Resultado derecho:\", parte_derecha_sin_parentesis)\n"
      ],
      "metadata": {
        "id": "OinJmxsSLXa8",
        "outputId": "e4ec87de-788d-4313-a039-61d54b6804df",
        "colab": {
          "base_uri": "https://localhost:8080/"
        }
      },
      "execution_count": 52,
      "outputs": [
        {
          "output_type": "stream",
          "name": "stdout",
          "text": [
            "No son necesarios paréntesis adicionales para ambos lados de la ecuación.\n",
            "Resultado izquierdo: [[10 10 10]\n",
            " [10 10 10]\n",
            " [10 10 10]]\n",
            "Resultado derecho: [[10 10 10]\n",
            " [10 10 10]\n",
            " [10 10 10]]\n"
          ]
        }
      ]
    },
    {
      "cell_type": "markdown",
      "metadata": {
        "ein.tags": "worksheet-0",
        "id": "ZcOfdLECVpz7"
      },
      "source": [
        "Decida un valor para $\\lambda$ y verfique que\n",
        "$$\n",
        "(\\lambda A)^T=\\lambda(A^{T})\n",
        "$$"
      ]
    },
    {
      "cell_type": "code",
      "source": [
        "# Definir un valor para el escalar λ\n",
        "lmbda = 2\n",
        "\n",
        "# Definir la matriz A\n",
        "A = np.array([[1, 2],\n",
        "              [3, 4]])"
      ],
      "metadata": {
        "id": "boutMJtoMXy8"
      },
      "execution_count": 54,
      "outputs": []
    },
    {
      "cell_type": "code",
      "execution_count": 56,
      "metadata": {
        "autoscroll": false,
        "ein.hycell": false,
        "ein.tags": "worksheet-0",
        "id": "SVar9B-6Vpz7"
      },
      "outputs": [],
      "source": [
        "# escriba aquí la parte izquierda de la ecuación:\n",
        "lado_izquierdo = (lmbda * A).T\n"
      ]
    },
    {
      "cell_type": "code",
      "execution_count": 55,
      "metadata": {
        "autoscroll": false,
        "ein.hycell": false,
        "ein.tags": "worksheet-0",
        "id": "06Eys9o2Vpz8",
        "outputId": "37142fe3-6ea5-48a7-8c1b-7cae81b13f3b",
        "colab": {
          "base_uri": "https://localhost:8080/"
        }
      },
      "outputs": [
        {
          "metadata": {
            "tags": null
          },
          "name": "stdout",
          "output_type": "stream",
          "text": [
            "La propiedad (λA)^T = λ(A^T) no se cumple.\n",
            "Resultado izquierdo: [[ 2  8 14]\n",
            " [ 4 10 16]\n",
            " [ 6 12 18]]\n",
            "Resultado derecho: [[2 6]\n",
            " [4 8]]\n"
          ]
        }
      ],
      "source": [
        "# escriba aquí la parte derecha de la ecuación\n",
        "lado_derecho = lmbda * A.T\n",
        "if np.array_equal(lado_izquierdo, lado_derecho):\n",
        "    print(\"La propiedad (λA)^T = λ(A^T) se cumple.\")\n",
        "    print(\"Resultado izquierdo:\", lado_izquierdo)\n",
        "    print(\"Resultado derecho:\", lado_derecho)\n",
        "else:\n",
        "    print(\"La propiedad (λA)^T = λ(A^T) no se cumple.\")\n",
        "    print(\"Resultado izquierdo:\", lado_izquierdo)\n",
        "    print(\"Resultado derecho:\", lado_derecho)"
      ]
    }
  ]
}